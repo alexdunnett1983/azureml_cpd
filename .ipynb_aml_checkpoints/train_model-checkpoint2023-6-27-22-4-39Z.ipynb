{
  "cells": [
    {
      "cell_type": "code",
      "source": [
        "from azure.ai.ml import MLClient\r\n",
        "from azure.identity import DefaultAzureCredential\r\n",
        "from azure.ai.ml.entities import Data\r\n",
        "from azure.ai.ml.constants import AssetTypes\r\n",
        "\r\n",
        "#authenticate\r\n",
        "credential = DefaultAzureCredential()\r\n",
        "\r\n",
        "# Get a handle to the workspace\r\n",
        "ml_client = MLClient(\r\n",
        "    credential=credential,\r\n",
        "    subscription_id=\"c6fb9fd9-644b-44c5-8e1f-2ea146326c95\",\r\n",
        "    resource_group_name=\"Alexander.Dunnett-rg\",\r\n",
        "    workspace_name=\"demo-alexplore\"\r\n",
        ")"
      ],
      "outputs": [],
      "execution_count": 5,
      "metadata": {
        "gather": {
          "logged": 1688685262276
        }
      }
    },
    {
      "cell_type": "code",
      "source": [
        "#COMPUTE: check if I already have cluster:\r\n",
        "ml_client.compute.get('cluster1-alex').state"
      ],
      "outputs": [
        {
          "output_type": "execute_result",
          "execution_count": 18,
          "data": {
            "text/plain": "'Running'"
          },
          "metadata": {}
        }
      ],
      "execution_count": 18,
      "metadata": {
        "jupyter": {
          "source_hidden": false,
          "outputs_hidden": false
        },
        "nteract": {
          "transient": {
            "deleting": false
          }
        },
        "gather": {
          "logged": 1688685882088
        }
      }
    },
    {
      "cell_type": "code",
      "source": [
        "#ENVIRONMENT:\r\n",
        "import os\r\n",
        "dependencies_dir = \"./dependencies\"\r\n",
        "os.makedirs(dependencies_dir, exist_ok=True)\r\n",
        "\r\n",
        "#writefile:\r\n",
        "file_path = './dependencies/conda.yaml'\r\n",
        "file_contents = '''\r\n",
        "name: model-env\r\n",
        "channels:\r\n",
        "  - conda-forge\r\n",
        "dependencies:\r\n",
        "  - python=3.8\r\n",
        "  - numpy=1.21.2\r\n",
        "  - pip=21.2.4\r\n",
        "  - scikit-learn=0.24.2\r\n",
        "  - scipy=1.7.1\r\n",
        "  - pandas>=1.1,<1.2\r\n",
        "  - pip:\r\n",
        "    - inference-schema[numpy-support]==1.3.0\r\n",
        "    - mlflow== 1.26.1\r\n",
        "    - azureml-mlflow==1.42.0\r\n",
        "    - psutil>=5.8,<5.9\r\n",
        "    - tqdm>=4.59,<4.60\r\n",
        "    - ipykernel~=6.0\r\n",
        "    - matplotlib\r\n",
        "'''\r\n",
        "with open(file_path, 'w') as file:\r\n",
        "    file.write(file_contents)"
      ],
      "outputs": [],
      "execution_count": 32,
      "metadata": {
        "jupyter": {
          "source_hidden": false,
          "outputs_hidden": false
        },
        "nteract": {
          "transient": {
            "deleting": false
          }
        },
        "gather": {
          "logged": 1688686324599
        }
      }
    },
    {
      "cell_type": "code",
      "source": [
        "#register this customer environment (e.g. kernel)\r\n",
        "from azure.ai.ml.entities import Environment\r\n",
        "custom_env_name = \"aml-scikit-learn\"\r\n",
        "custom_job_env = Environment(\r\n",
        "    name=custom_env_name,\r\n",
        "    description=\"Custom environment for Credit Card Defaults job\",\r\n",
        "    tags={\"scikit-learn\": \"0.24.2\"},\r\n",
        "    conda_file=os.path.join(dependencies_dir, \"conda.yaml\"),\r\n",
        "    image=\"mcr.microsoft.com/azureml/openmpi3.1.2-ubuntu18.04:latest\"\r\n",
        ")\r\n",
        "custom_job_env = ml_client.environments.create_or_update(custom_job_env)"
      ],
      "outputs": [],
      "execution_count": 35,
      "metadata": {
        "jupyter": {
          "source_hidden": false,
          "outputs_hidden": false
        },
        "nteract": {
          "transient": {
            "deleting": false
          }
        },
        "gather": {
          "logged": 1688686606941
        }
      }
    },
    {
      "cell_type": "code",
      "source": [
        "custom_job_env.description"
      ],
      "outputs": [
        {
          "output_type": "execute_result",
          "execution_count": 37,
          "data": {
            "text/plain": "'Custom environment for Credit Card Defaults job'"
          },
          "metadata": {}
        }
      ],
      "execution_count": 37,
      "metadata": {
        "jupyter": {
          "source_hidden": false,
          "outputs_hidden": false
        },
        "nteract": {
          "transient": {
            "deleting": false
          }
        },
        "gather": {
          "logged": 1688686764485
        }
      }
    }
  ],
  "metadata": {
    "kernelspec": {
      "name": "python310-sdkv2",
      "language": "python",
      "display_name": "Python 3.10 - SDK v2"
    },
    "language_info": {
      "name": "python",
      "version": "3.10.10",
      "mimetype": "text/x-python",
      "codemirror_mode": {
        "name": "ipython",
        "version": 3
      },
      "pygments_lexer": "ipython3",
      "nbconvert_exporter": "python",
      "file_extension": ".py"
    },
    "microsoft": {
      "ms_spell_check": {
        "ms_spell_check_language": "en"
      },
      "host": {
        "AzureML": {
          "notebookHasBeenCompleted": true
        }
      }
    },
    "kernel_info": {
      "name": "python310-sdkv2"
    },
    "nteract": {
      "version": "nteract-front-end@1.0.0"
    }
  },
  "nbformat": 4,
  "nbformat_minor": 2
}