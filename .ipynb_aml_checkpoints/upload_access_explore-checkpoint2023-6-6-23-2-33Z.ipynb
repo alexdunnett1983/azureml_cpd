{
  "cells": [
    {
      "cell_type": "code",
      "source": [
        "from azure.ai.ml import MLClient\r\n",
        "from azure.identity import DefaultAzureCredential\r\n",
        "from azure.ai.ml.entities import Data\r\n",
        "from azure.ai.ml.constants import AssetTypes\r\n",
        "\r\n",
        "#authenticate\r\n",
        "credential = DefaultAzureCredential()\r\n",
        "\r\n",
        "# Get a handle to the workspace\r\n",
        "ml_client = MLClient(\r\n",
        "    credential=credential,\r\n",
        "    subscription_id=\"c6fb9fd9-644b-44c5-8e1f-2ea146326c95\",\r\n",
        "    resource_group_name=\"Alexander.Dunnett-rg\",\r\n",
        "    workspace_name=\"demo-alexplore\"\r\n",
        ")"
      ],
      "outputs": [],
      "execution_count": 47,
      "metadata": {
        "gather": {
          "logged": 1688683126824
        }
      }
    },
    {
      "cell_type": "code",
      "source": [
        "ml_client"
      ],
      "outputs": [
        {
          "output_type": "execute_result",
          "execution_count": 48,
          "data": {
            "text/plain": "MLClient(credential=<azure.identity._credentials.default.DefaultAzureCredential object at 0x7fd7e5c69ed0>,\n         subscription_id=c6fb9fd9-644b-44c5-8e1f-2ea146326c95,\n         resource_group_name=Alexander.Dunnett-rg,\n         workspace_name=demo-alexplore)"
          },
          "metadata": {}
        }
      ],
      "execution_count": 48,
      "metadata": {
        "jupyter": {
          "source_hidden": false,
          "outputs_hidden": false
        },
        "nteract": {
          "transient": {
            "deleting": false
          }
        },
        "gather": {
          "logged": 1688683128827
        }
      }
    },
    {
      "cell_type": "code",
      "source": [
        "from azure.ai.ml.entities import Data\r\n",
        "from azure.ai.ml.constants import AssetTypes\r\n",
        "import time"
      ],
      "outputs": [],
      "execution_count": 5,
      "metadata": {
        "jupyter": {
          "source_hidden": false,
          "outputs_hidden": false
        },
        "nteract": {
          "transient": {
            "deleting": false
          }
        },
        "gather": {
          "logged": 1688679400582
        }
      }
    },
    {
      "cell_type": "code",
      "source": [
        "#Build data asset: data held in local location but now referenceable by compute\r\n",
        "my_path = \"./data/default_of_credit_card_clients.csv\"\r\n",
        "v1 = time.strftime(\"%Y.%m.%d.%H.%M.%S\", time.gmtime())\r\n",
        "#...version is timestamp :-)\r\n",
        "\r\n",
        "my_data = Data(\r\n",
        "    name=\"credit_card\",\r\n",
        "    version=v1,\r\n",
        "    description=\"Credit card data\",\r\n",
        "    path=my_path,\r\n",
        "    type=AssetTypes.URI_FILE\r\n",
        ")"
      ],
      "outputs": [],
      "execution_count": 31,
      "metadata": {
        "jupyter": {
          "source_hidden": false,
          "outputs_hidden": false
        },
        "nteract": {
          "transient": {
            "deleting": false
          }
        },
        "gather": {
          "logged": 1688681014333
        }
      }
    },
    {
      "cell_type": "code",
      "source": [
        "#check version information\r\n",
        "print(my_data.version)\r\n",
        "print(my_data.description)"
      ],
      "outputs": [
        {
          "output_type": "stream",
          "name": "stdout",
          "text": "2023.07.06.22.03.34\nCredit card data\n"
        }
      ],
      "execution_count": 32,
      "metadata": {
        "jupyter": {
          "source_hidden": false,
          "outputs_hidden": false
        },
        "nteract": {
          "transient": {
            "deleting": false
          }
        },
        "gather": {
          "logged": 1688681015096
        }
      }
    },
    {
      "cell_type": "code",
      "source": [
        "#create that asset:\r\n",
        "ml_client.data.create_or_update(my_data)"
      ],
      "outputs": [
        {
          "output_type": "execute_result",
          "execution_count": 33,
          "data": {
            "text/plain": "Data({'skip_validation': False, 'mltable_schema_url': None, 'referenced_uris': None, 'type': 'uri_file', 'is_anonymous': False, 'auto_increment_version': False, 'name': 'credit_card', 'description': 'Credit card data', 'tags': {}, 'properties': {}, 'print_as_yaml': True, 'id': '/subscriptions/c6fb9fd9-644b-44c5-8e1f-2ea146326c95/resourceGroups/Alexander.Dunnett-rg/providers/Microsoft.MachineLearningServices/workspaces/demo-alexplore/data/credit_card/versions/2023.07.06.22.03.34', 'Resource__source_path': None, 'base_path': '/mnt/batch/tasks/shared/LS_root/mounts/clusters/cpu1-alex/code/Users/Alexander.Dunnett', 'creation_context': <azure.ai.ml.entities._system_data.SystemData object at 0x7fd7ef9a7910>, 'serialize': <msrest.serialization.Serializer object at 0x7fd7e771e920>, 'version': '2023.07.06.22.03.34', 'latest_version': None, 'path': 'azureml://subscriptions/c6fb9fd9-644b-44c5-8e1f-2ea146326c95/resourcegroups/Alexander.Dunnett-rg/workspaces/demo-alexplore/datastores/workspaceblobstore/paths/LocalUpload/4b1dfc4d12429b46389cabdf25b886a2/default_of_credit_card_clients.csv', 'datastore': None})"
          },
          "metadata": {}
        }
      ],
      "execution_count": 33,
      "metadata": {
        "jupyter": {
          "source_hidden": false,
          "outputs_hidden": false
        },
        "nteract": {
          "transient": {
            "deleting": false
          }
        },
        "gather": {
          "logged": 1688681017139
        }
      }
    },
    {
      "cell_type": "markdown",
      "source": [
        "**Import Data into Pandas:**"
      ],
      "metadata": {
        "nteract": {
          "transient": {
            "deleting": false
          }
        }
      }
    },
    {
      "cell_type": "code",
      "source": [
        "import pandas as pd\r\n",
        "#%pip install -U azureml-fsspec\r\n",
        "data_asset = ml_client.data.get(name=\"credit_card\", version=v1)\r\n",
        "df = pd.read_csv(data_asset.path, header = 1)\r\n",
        "df.head()"
      ],
      "outputs": [
        {
          "output_type": "execute_result",
          "execution_count": 34,
          "data": {
            "text/plain": "   ID  LIMIT_BAL  SEX  EDUCATION  MARRIAGE  AGE  PAY_0  PAY_2  PAY_3  PAY_4   \n0   1      20000    2          2         1   24      2      2     -1     -1  \\\n1   2     120000    2          2         2   26     -1      2      0      0   \n2   3      90000    2          2         2   34      0      0      0      0   \n3   4      50000    2          2         1   37      0      0      0      0   \n4   5      50000    1          2         1   57     -1      0     -1      0   \n\n   ...  BILL_AMT4  BILL_AMT5  BILL_AMT6  PAY_AMT1  PAY_AMT2  PAY_AMT3   \n0  ...          0          0          0         0       689         0  \\\n1  ...       3272       3455       3261         0      1000      1000   \n2  ...      14331      14948      15549      1518      1500      1000   \n3  ...      28314      28959      29547      2000      2019      1200   \n4  ...      20940      19146      19131      2000     36681     10000   \n\n   PAY_AMT4  PAY_AMT5  PAY_AMT6  default payment next month  \n0         0         0         0                           1  \n1      1000         0      2000                           1  \n2      1000      1000      5000                           0  \n3      1100      1069      1000                           0  \n4      9000       689       679                           0  \n\n[5 rows x 25 columns]",
            "text/html": "<div>\n<style scoped>\n    .dataframe tbody tr th:only-of-type {\n        vertical-align: middle;\n    }\n\n    .dataframe tbody tr th {\n        vertical-align: top;\n    }\n\n    .dataframe thead th {\n        text-align: right;\n    }\n</style>\n<table border=\"1\" class=\"dataframe\">\n  <thead>\n    <tr style=\"text-align: right;\">\n      <th></th>\n      <th>ID</th>\n      <th>LIMIT_BAL</th>\n      <th>SEX</th>\n      <th>EDUCATION</th>\n      <th>MARRIAGE</th>\n      <th>AGE</th>\n      <th>PAY_0</th>\n      <th>PAY_2</th>\n      <th>PAY_3</th>\n      <th>PAY_4</th>\n      <th>...</th>\n      <th>BILL_AMT4</th>\n      <th>BILL_AMT5</th>\n      <th>BILL_AMT6</th>\n      <th>PAY_AMT1</th>\n      <th>PAY_AMT2</th>\n      <th>PAY_AMT3</th>\n      <th>PAY_AMT4</th>\n      <th>PAY_AMT5</th>\n      <th>PAY_AMT6</th>\n      <th>default payment next month</th>\n    </tr>\n  </thead>\n  <tbody>\n    <tr>\n      <th>0</th>\n      <td>1</td>\n      <td>20000</td>\n      <td>2</td>\n      <td>2</td>\n      <td>1</td>\n      <td>24</td>\n      <td>2</td>\n      <td>2</td>\n      <td>-1</td>\n      <td>-1</td>\n      <td>...</td>\n      <td>0</td>\n      <td>0</td>\n      <td>0</td>\n      <td>0</td>\n      <td>689</td>\n      <td>0</td>\n      <td>0</td>\n      <td>0</td>\n      <td>0</td>\n      <td>1</td>\n    </tr>\n    <tr>\n      <th>1</th>\n      <td>2</td>\n      <td>120000</td>\n      <td>2</td>\n      <td>2</td>\n      <td>2</td>\n      <td>26</td>\n      <td>-1</td>\n      <td>2</td>\n      <td>0</td>\n      <td>0</td>\n      <td>...</td>\n      <td>3272</td>\n      <td>3455</td>\n      <td>3261</td>\n      <td>0</td>\n      <td>1000</td>\n      <td>1000</td>\n      <td>1000</td>\n      <td>0</td>\n      <td>2000</td>\n      <td>1</td>\n    </tr>\n    <tr>\n      <th>2</th>\n      <td>3</td>\n      <td>90000</td>\n      <td>2</td>\n      <td>2</td>\n      <td>2</td>\n      <td>34</td>\n      <td>0</td>\n      <td>0</td>\n      <td>0</td>\n      <td>0</td>\n      <td>...</td>\n      <td>14331</td>\n      <td>14948</td>\n      <td>15549</td>\n      <td>1518</td>\n      <td>1500</td>\n      <td>1000</td>\n      <td>1000</td>\n      <td>1000</td>\n      <td>5000</td>\n      <td>0</td>\n    </tr>\n    <tr>\n      <th>3</th>\n      <td>4</td>\n      <td>50000</td>\n      <td>2</td>\n      <td>2</td>\n      <td>1</td>\n      <td>37</td>\n      <td>0</td>\n      <td>0</td>\n      <td>0</td>\n      <td>0</td>\n      <td>...</td>\n      <td>28314</td>\n      <td>28959</td>\n      <td>29547</td>\n      <td>2000</td>\n      <td>2019</td>\n      <td>1200</td>\n      <td>1100</td>\n      <td>1069</td>\n      <td>1000</td>\n      <td>0</td>\n    </tr>\n    <tr>\n      <th>4</th>\n      <td>5</td>\n      <td>50000</td>\n      <td>1</td>\n      <td>2</td>\n      <td>1</td>\n      <td>57</td>\n      <td>-1</td>\n      <td>0</td>\n      <td>-1</td>\n      <td>0</td>\n      <td>...</td>\n      <td>20940</td>\n      <td>19146</td>\n      <td>19131</td>\n      <td>2000</td>\n      <td>36681</td>\n      <td>10000</td>\n      <td>9000</td>\n      <td>689</td>\n      <td>679</td>\n      <td>0</td>\n    </tr>\n  </tbody>\n</table>\n<p>5 rows × 25 columns</p>\n</div>"
          },
          "metadata": {}
        }
      ],
      "execution_count": 34,
      "metadata": {
        "jupyter": {
          "source_hidden": false,
          "outputs_hidden": false
        },
        "nteract": {
          "transient": {
            "deleting": false
          }
        },
        "gather": {
          "logged": 1688681050222
        }
      }
    },
    {
      "cell_type": "code",
      "source": [
        "#wrangle + commit to parquet! it's the best for tabular :-)\r\n",
        "df.rename(columns={\"default payment next month\": \"default\"}, inplace=True)\r\n",
        "df.drop(\"ID\", axis=1, inplace=True)\r\n",
        "df.to_parquet(\"./data/cleaned-credit-card.parquet\")"
      ],
      "outputs": [],
      "execution_count": 38,
      "metadata": {
        "jupyter": {
          "source_hidden": false,
          "outputs_hidden": false
        },
        "nteract": {
          "transient": {
            "deleting": false
          }
        },
        "gather": {
          "logged": 1688681199288
        }
      }
    },
    {
      "cell_type": "code",
      "source": [
        "v2 = v1 + \"_cleaned\"\r\n",
        "my_path = \"./data/cleaned-credit-card.parquet\"\r\n",
        "#update metadata for this version\r\n",
        "my_data = Data(\r\n",
        "    name=\"credit_card\",\r\n",
        "    version=v2,\r\n",
        "    description=\"Default of credit card clients data (cleaned)\",\r\n",
        "    path=my_path,\r\n",
        "    type=AssetTypes.URI_FILE\r\n",
        ")\r\n",
        "my_data = ml_client.data.create_or_update(my_data)"
      ],
      "outputs": [
        {
          "output_type": "stream",
          "name": "stderr",
          "text": "\rUploading cleaned-credit-card.parquet (< 1 MB): 0.00B [00:00, ?B/s]\rUploading cleaned-credit-card.parquet (< 1 MB): 100%|██████████| 1.58M/1.58M [00:00<00:00, 26.6MB/s]\n\n\n"
        }
      ],
      "execution_count": 40,
      "metadata": {
        "jupyter": {
          "source_hidden": false,
          "outputs_hidden": false
        },
        "nteract": {
          "transient": {
            "deleting": false
          }
        },
        "gather": {
          "logged": 1688681394638
        }
      }
    },
    {
      "cell_type": "code",
      "source": [
        "#now read data in from the cleaned .parquet format file\r\n",
        "data_asset = ml_client.data.get(name=\"credit_card\", version=v2)\r\n",
        "df = pd.read_parquet(data_asset.path)\r\n",
        "df.head()"
      ],
      "outputs": [
        {
          "output_type": "execute_result",
          "execution_count": 44,
          "data": {
            "text/plain": "   LIMIT_BAL  SEX  EDUCATION  MARRIAGE  AGE  PAY_0  PAY_2  PAY_3  PAY_4   \n0      20000    2          2         1   24      2      2     -1     -1  \\\n1     120000    2          2         2   26     -1      2      0      0   \n2      90000    2          2         2   34      0      0      0      0   \n3      50000    2          2         1   37      0      0      0      0   \n4      50000    1          2         1   57     -1      0     -1      0   \n\n   PAY_5  ...  BILL_AMT4  BILL_AMT5  BILL_AMT6  PAY_AMT1  PAY_AMT2  PAY_AMT3   \n0     -2  ...          0          0          0         0       689         0  \\\n1      0  ...       3272       3455       3261         0      1000      1000   \n2      0  ...      14331      14948      15549      1518      1500      1000   \n3      0  ...      28314      28959      29547      2000      2019      1200   \n4      0  ...      20940      19146      19131      2000     36681     10000   \n\n   PAY_AMT4  PAY_AMT5  PAY_AMT6  default  \n0         0         0         0        1  \n1      1000         0      2000        1  \n2      1000      1000      5000        0  \n3      1100      1069      1000        0  \n4      9000       689       679        0  \n\n[5 rows x 24 columns]",
            "text/html": "<div>\n<style scoped>\n    .dataframe tbody tr th:only-of-type {\n        vertical-align: middle;\n    }\n\n    .dataframe tbody tr th {\n        vertical-align: top;\n    }\n\n    .dataframe thead th {\n        text-align: right;\n    }\n</style>\n<table border=\"1\" class=\"dataframe\">\n  <thead>\n    <tr style=\"text-align: right;\">\n      <th></th>\n      <th>LIMIT_BAL</th>\n      <th>SEX</th>\n      <th>EDUCATION</th>\n      <th>MARRIAGE</th>\n      <th>AGE</th>\n      <th>PAY_0</th>\n      <th>PAY_2</th>\n      <th>PAY_3</th>\n      <th>PAY_4</th>\n      <th>PAY_5</th>\n      <th>...</th>\n      <th>BILL_AMT4</th>\n      <th>BILL_AMT5</th>\n      <th>BILL_AMT6</th>\n      <th>PAY_AMT1</th>\n      <th>PAY_AMT2</th>\n      <th>PAY_AMT3</th>\n      <th>PAY_AMT4</th>\n      <th>PAY_AMT5</th>\n      <th>PAY_AMT6</th>\n      <th>default</th>\n    </tr>\n  </thead>\n  <tbody>\n    <tr>\n      <th>0</th>\n      <td>20000</td>\n      <td>2</td>\n      <td>2</td>\n      <td>1</td>\n      <td>24</td>\n      <td>2</td>\n      <td>2</td>\n      <td>-1</td>\n      <td>-1</td>\n      <td>-2</td>\n      <td>...</td>\n      <td>0</td>\n      <td>0</td>\n      <td>0</td>\n      <td>0</td>\n      <td>689</td>\n      <td>0</td>\n      <td>0</td>\n      <td>0</td>\n      <td>0</td>\n      <td>1</td>\n    </tr>\n    <tr>\n      <th>1</th>\n      <td>120000</td>\n      <td>2</td>\n      <td>2</td>\n      <td>2</td>\n      <td>26</td>\n      <td>-1</td>\n      <td>2</td>\n      <td>0</td>\n      <td>0</td>\n      <td>0</td>\n      <td>...</td>\n      <td>3272</td>\n      <td>3455</td>\n      <td>3261</td>\n      <td>0</td>\n      <td>1000</td>\n      <td>1000</td>\n      <td>1000</td>\n      <td>0</td>\n      <td>2000</td>\n      <td>1</td>\n    </tr>\n    <tr>\n      <th>2</th>\n      <td>90000</td>\n      <td>2</td>\n      <td>2</td>\n      <td>2</td>\n      <td>34</td>\n      <td>0</td>\n      <td>0</td>\n      <td>0</td>\n      <td>0</td>\n      <td>0</td>\n      <td>...</td>\n      <td>14331</td>\n      <td>14948</td>\n      <td>15549</td>\n      <td>1518</td>\n      <td>1500</td>\n      <td>1000</td>\n      <td>1000</td>\n      <td>1000</td>\n      <td>5000</td>\n      <td>0</td>\n    </tr>\n    <tr>\n      <th>3</th>\n      <td>50000</td>\n      <td>2</td>\n      <td>2</td>\n      <td>1</td>\n      <td>37</td>\n      <td>0</td>\n      <td>0</td>\n      <td>0</td>\n      <td>0</td>\n      <td>0</td>\n      <td>...</td>\n      <td>28314</td>\n      <td>28959</td>\n      <td>29547</td>\n      <td>2000</td>\n      <td>2019</td>\n      <td>1200</td>\n      <td>1100</td>\n      <td>1069</td>\n      <td>1000</td>\n      <td>0</td>\n    </tr>\n    <tr>\n      <th>4</th>\n      <td>50000</td>\n      <td>1</td>\n      <td>2</td>\n      <td>1</td>\n      <td>57</td>\n      <td>-1</td>\n      <td>0</td>\n      <td>-1</td>\n      <td>0</td>\n      <td>0</td>\n      <td>...</td>\n      <td>20940</td>\n      <td>19146</td>\n      <td>19131</td>\n      <td>2000</td>\n      <td>36681</td>\n      <td>10000</td>\n      <td>9000</td>\n      <td>689</td>\n      <td>679</td>\n      <td>0</td>\n    </tr>\n  </tbody>\n</table>\n<p>5 rows × 24 columns</p>\n</div>"
          },
          "metadata": {}
        }
      ],
      "execution_count": 44,
      "metadata": {
        "jupyter": {
          "source_hidden": false,
          "outputs_hidden": false
        },
        "nteract": {
          "transient": {
            "deleting": false
          }
        },
        "gather": {
          "logged": 1688681582089
        }
      }
    },
    {
      "cell_type": "code",
      "source": [],
      "outputs": [],
      "execution_count": null,
      "metadata": {
        "jupyter": {
          "source_hidden": false,
          "outputs_hidden": false
        },
        "nteract": {
          "transient": {
            "deleting": false
          }
        }
      }
    }
  ],
  "metadata": {
    "kernelspec": {
      "name": "python310-sdkv2",
      "language": "python",
      "display_name": "Python 3.10 - SDK v2"
    },
    "language_info": {
      "name": "python",
      "version": "3.10.10",
      "mimetype": "text/x-python",
      "codemirror_mode": {
        "name": "ipython",
        "version": 3
      },
      "pygments_lexer": "ipython3",
      "nbconvert_exporter": "python",
      "file_extension": ".py"
    },
    "microsoft": {
      "ms_spell_check": {
        "ms_spell_check_language": "en"
      },
      "host": {
        "AzureML": {
          "notebookHasBeenCompleted": true
        }
      }
    },
    "kernel_info": {
      "name": "python310-sdkv2"
    },
    "nteract": {
      "version": "nteract-front-end@1.0.0"
    }
  },
  "nbformat": 4,
  "nbformat_minor": 2
}